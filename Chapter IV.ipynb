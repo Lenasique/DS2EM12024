{
 "cells": [
  {
   "cell_type": "markdown",
   "metadata": {},
   "source": [
    "## Neo4j\n",
    "\n",
    "## Short intro to graph theory\n",
    "\n",
    "To understand Neo4j you need some intuition to graph theory.\n",
    "\n",
    "Graph theory is the study of graphs (usually called networks in our domain). Graphs are mathematical structures used to model pairwise relations (edges) between object(nodes). A graph can be either undirected (symetrical relation) or directed (asymetrical realtion). An edge connects only two nodes (It can be twice the same node). Here's an example of a graph:\n",
    "\n",
    "<img src=\"./img/network.png\">\n",
    "\n",
    "A network can be represented in the three following format:\n",
    "\n",
    "### Adjacency matrix\n",
    "A network can be represented as an adjacency matrix. The row names and col names of this matrix is the names of the node. The cells are the relation between nodes. This matrix is symetric if the network is undirected. If directed the rows are the starting point of the edge (also called \"source\") and the columns are the end (\"target\"). Here's the adjacency matrix for the previous network:\n",
    "\n",
    "/  | Spider-man | Nick Fury | Capitain America | Iron man | \n",
    "--- | --- | --- | --- | --- |\n",
    "Spider-man | 0 | 0 | 0 | 0 |\n",
    "Nick Fury | 1 | 0 | 0 | 0 |\n",
    "Capitain America | 1 | 1 | 0 | 1 |\n",
    "Iron man | 1 | 1 | 0 | 0 |\n",
    "\n",
    "### Edge list\n",
    "\n",
    "An edge list is composed of three columns: A source, a target and a weight. In others words we focus on the edge instead of the node. A source is the node from which the edge is going out and the target the node where the edge comes in. Here's the edge list of the previous network:\n",
    "\n",
    "| Source | Target | Weight | \n",
    "| --- | --- | --- |\n",
    "| Nick Fury | Spider-man | 1 |\n",
    "| Capitain America | Spider-man | 1 |\n",
    "| Capitain America | Nick Fury | 1 |\n",
    "| Capitain America | Iron man | 1 |\n",
    "| Iron man | Spider-man | 1 |\n",
    "| Iron man | Nick Fury | 1 |\n",
    "\n",
    "### Incidence matrix\n",
    "\n",
    "An incidence matrix is probably the less used format. It's a matrix where the columns are the edges and the rows the nodes.\n",
    "\n",
    "\n",
    "/  | edge 1 | edge 2 | edge 3 | edge 4 | edge 5 | edge 6 | \n",
    "--- | --- | --- | --- | --- | --- | --- |\n",
    "Spider-man | 0 | -1 | 0 | 0 | -1 | -1 |\n",
    "Nick Fury | -1 | 0 | 0 | -1 | 0 | 1 |\n",
    "Capitain America | 1 | 1 | 1 | 0 | 0 | 0 |\n",
    "Iron man | 0 | 0 | -1 | 1 | 1 | 0 |\n"
   ]
  },
  {
   "attachments": {},
   "cell_type": "markdown",
   "metadata": {},
   "source": [
    "## Neo4j DB\n",
    "\n",
    "The last chapter we worked on a document store architecture noSQL DB. Now we will focus our attention on a graph database.\n",
    "If you followed the instructions of the readme you should be able to do the next steps.\n",
    "\n",
    "If you use neo4j desktop the procedure is easy Let's start by creating a new project with the password \"password_tuts\". the default user and collection name is \"neo4j\"\n"
   ]
  },
  {
   "cell_type": "code",
   "execution_count": 9,
   "metadata": {},
   "outputs": [],
   "source": [
    "import py2neo\n",
    "\n",
    "# Connect to graph db , default user is neo4j and default collection is neo4j\n",
    "# to change default auth just go to the localhost\n",
    "\n",
    "graph = py2neo.Graph(\"bolt://localhost:7687\", auth=(\"neo4j\", \"password_tuts\"), name=\"neo4j\")\n",
    "graph.delete_all()\n"
   ]
  },
  {
   "attachments": {},
   "cell_type": "markdown",
   "metadata": {},
   "source": [
    "In order to change the name of the DB you are working on run the following in the neo4j console\n",
    "\n",
    "```\n",
    "create database tutorial\n",
    ":use tutorial\n",
    "``` "
   ]
  },
  {
   "cell_type": "code",
   "execution_count": 5,
   "metadata": {},
   "outputs": [
    {
     "name": "stdout",
     "output_type": "stream",
     "text": [
      "True\n"
     ]
    }
   ],
   "source": [
    "# First steps in py2neo\n",
    "\n",
    "import py2neo\n",
    "\n",
    "# Connect to graph db , default is auth=(\"neo4j\", \"neo4j\")\n",
    "# to change default auth just go to the localhost\n",
    "\n",
    "graph = py2neo.Graph(\"bolt://localhost:7687\", auth=(\"neo4j\", \"password_tuts\"), name=\"tutorial\")\n",
    "#graph.delete_all()\n",
    "# Node method: first argument is Node label and then arbitrary number of characteristics\n",
    "Person1 = py2neo.Node(\"Person\", name=\"Person1\", age = 25, hobbies = \"foot\") \n",
    "Person2 = py2neo.Node(\"Person\", name=\"Person2\", age = 27)\n",
    "Person3 = py2neo.Node(\"Person\", name=\"Person3\", age = 24)\n",
    "\n",
    "ab = py2neo.Relationship(Person1, \"COLLABORATED\", Person2, n_collab = 3)\n",
    "ba = py2neo.Relationship(Person2, \"COLLABORATED\", Person1, n_collab = 2)\n",
    "# You need to commit these node before they appear in the db\n",
    "# We will do that by using a transaction\n",
    "\n",
    "\n",
    "transaction = graph.begin()\n",
    "transaction.create(Person1|Person2|Person3)\n",
    "transaction.create(ab)\n",
    "transaction.create(ba)\n",
    "graph.commit(transaction)\n",
    "\n",
    "print(graph.exists(ab))\n",
    "\n"
   ]
  },
  {
   "cell_type": "markdown",
   "metadata": {},
   "source": [
    "You can also create your own class of node type with specific argument (more structured)."
   ]
  },
  {
   "cell_type": "code",
   "execution_count": 6,
   "metadata": {},
   "outputs": [
    {
     "name": "stderr",
     "output_type": "stream",
     "text": [
      " 99%|█████████▉| 991/1000 [00:09<00:00, 82.61it/s] C:\\Users\\ndubo\\AppData\\Local\\Temp\\ipykernel_9740\\164765476.py:43: DeprecationWarning: The transaction.commit() method is deprecated, use graph.commit(transaction) instead\n",
      "  transaction.commit()\n",
      "100%|██████████| 1000/1000 [00:10<00:00, 97.92it/s]\n"
     ]
    }
   ],
   "source": [
    "import py2neo\n",
    "from py2neo import ogm\n",
    "import numpy as np\n",
    "import tqdm\n",
    "\n",
    "graph = py2neo.Graph(\"bolt://localhost:7687\", auth=(\"neo4j\", \"password_tuts\"), name=\"tutorial\")\n",
    "# Delete every node and relation\n",
    "graph.delete_all()\n",
    "\n",
    "# The class Person will inherit from ogm.GraphObject\n",
    "class Person(ogm.GraphObject):\n",
    "    __primarykey__ = \"id_\"\n",
    "    \n",
    "    id_ = ogm.Property()\n",
    "    name = ogm.Property()\n",
    "    age = ogm.Property()\n",
    "    \n",
    "    def __init__(self):\n",
    "        self.node = self.__ogm__.node\n",
    "\n",
    "# Init dict with the different name for random attribution     \n",
    "names = {\"0\":\"Person1\",\n",
    "        \"1\":\"Person2\",\n",
    "        \"2\":\"Person3\"}\n",
    "# Init the transaction or you will insert every node one by one which is really slow.\n",
    "transaction = graph.begin()\n",
    "iteration = 0\n",
    "for i in tqdm.tqdm(range(1000)):\n",
    "    # Create instance of class\n",
    "    ind = Person()\n",
    "    # Init variable of ind\n",
    "    ind.id_ = int(iteration)\n",
    "    name = names[str(np.random.random(3).argmax())]\n",
    "    ind.name = name\n",
    "    ind.age = int(np.random.randint(low=20, high=60, size=1)[0])\n",
    "    \n",
    "    # init transaction  \n",
    "    transaction.create(ind.node)\n",
    "    iteration += 1\n",
    "    \n",
    "    # commit transaction and reset it every 1000 iterations\n",
    "    if (i+1) % 1000 == 0:\n",
    "        transaction.commit()\n",
    "        transaction = graph.begin()"
   ]
  },
  {
   "attachments": {},
   "cell_type": "markdown",
   "metadata": {},
   "source": [
    "Works pretty well but it is pretty slow. To overcome this problem you can use Cypher queries. Cypher is Neo4j’s graph query language and is way faster than the py2neo wrapper. Cypher is, like SQL, a declarative, textual query language, but for graphs. If you have a small project you can ignore Cypher queries but if you are indeed interested by neo4j I really recommend to learn Cypher queries. We will learn CRUD operation with Cypher queries. https://neo4j.com/docs/cypher-refcard/current/."
   ]
  },
  {
   "cell_type": "markdown",
   "metadata": {},
   "source": [
    "### CREATE"
   ]
  },
  {
   "cell_type": "code",
   "execution_count": 7,
   "metadata": {},
   "outputs": [
    {
     "name": "stdout",
     "output_type": "stream",
     "text": [
      "Constraint already exists\n"
     ]
    },
    {
     "name": "stderr",
     "output_type": "stream",
     "text": [
      "100%|██████████| 100000/100000 [00:11<00:00, 8380.43it/s]\n"
     ]
    }
   ],
   "source": [
    "import tqdm\n",
    "import py2neo\n",
    "import numpy as np\n",
    "graph = py2neo.Graph(\"bolt://localhost:7687\", auth=(\"neo4j\", \"password_tuts\"), name=\"tutorial\")\n",
    "graph.delete_all()\n",
    "\n",
    "names = {\"0\":\"Person1\",\n",
    "        \"1\":\"Person2\",\n",
    "        \"2\":\"Person3\"}\n",
    "\n",
    "# Execute a query with graph.run\n",
    "# Here the query creates a \"constraint\" on the id_ of the person asking for it to be unique i.e Primary key\n",
    "try:\n",
    "    graph.run(\"CREATE CONSTRAINT ON (:Person) ASSERT n.id_ IS UNIQUE\")\n",
    "except:\n",
    "    print(\"Constraint already exists\")\n",
    "    \n",
    "# init a list of transaction that we will commit at the same time\n",
    "transaction_list = []\n",
    "\n",
    "iteration = 0\n",
    "for i in tqdm.tqdm(range(100000)):\n",
    "    id_ = iteration\n",
    "    name = names[str(np.random.random(3).argmax())]\n",
    "    age = int(np.random.randint(low=20, high=60, size=1)[0])\n",
    "    # Append a dict, 1 dict per person \n",
    "    transaction_list.append({\"id_\":id_,\"name\":name,\"age\":age})\n",
    "    iteration += 1\n",
    "    if i % 1000 == 0:\n",
    "        # To commit a list of transaction with cypher you can use the UNWIND parameter\n",
    "        # $json => json will be the argument of run with the data\n",
    "        transaction = \"UNWIND $json as data CREATE (n:Person) SET n = data\"\n",
    "        graph.run(transaction, json=transaction_list)\n",
    "        transaction_list = []\n",
    "\n",
    "graph.run(transaction, json=transaction_list)\n",
    "\n",
    "# CREATE Relation\n",
    "\n",
    "# MATCH search for the pattern described in it\n",
    "# WHERE = condition\n",
    "# CREATE an edge (node)-[:Relationtype]-(node2)\n",
    "\n",
    "for i in range(10):\n",
    "    query = \"\"\"MATCH (a:Person),(b:Person)\n",
    "    WHERE a.id_ = {} AND b.id_ = {}\n",
    "    CREATE (a)-[r:COLLAB]->(b)\n",
    "    \"\"\".format(str(i),str(i+1))\n",
    "    graph.run(query)\n",
    "\n",
    "for i in range(21,25,1):\n",
    "    query = \"\"\"MATCH (a:Person),(b:Person)\n",
    "    WHERE a.id_ = %s AND b.id_ = %s\n",
    "    CREATE (a)-[:COLLAB {n_collab: %s}]->(b)\n",
    "    \"\"\"% (str(i),str(i+1),2)\n",
    "    graph.run(query)\n",
    "    \n",
    "\n",
    "transaction_list = []\n",
    "    \n",
    "for i in range(20,40,1):\n",
    "    transaction_list.append({\"id_1\":i,\"id_2\":(i+1), \"n_collab\":i*2})\n",
    "    \n",
    "transaction = \"\"\"UNWIND $json as data\n",
    "MATCH (a:Person),(b:Person)\n",
    "WHERE a.id_ = data.id_1 AND b.id_ = data.id_2\n",
    "CREATE (a)-[:COLLAB {n_collab: data.n_collab}]->(b)\n",
    "\"\"\"\n",
    "graph.run(transaction, json=transaction_list)\n",
    "pass\n",
    "# You can't create an undirected edge but you can have the notion of undirected edges at query time.    "
   ]
  },
  {
   "cell_type": "markdown",
   "metadata": {},
   "source": [
    "### READ"
   ]
  },
  {
   "cell_type": "code",
   "execution_count": 8,
   "metadata": {},
   "outputs": [
    {
     "name": "stdout",
     "output_type": "stream",
     "text": [
      "100000\n"
     ]
    },
    {
     "name": "stderr",
     "output_type": "stream",
     "text": [
      " 99%|█████████▊| 98515/100000 [00:00<00:00, 164696.99it/s]"
     ]
    },
    {
     "name": "stdout",
     "output_type": "stream",
     "text": [
      "Person3\n",
      "59\n",
      "99999\n"
     ]
    },
    {
     "name": "stderr",
     "output_type": "stream",
     "text": [
      "100%|██████████| 100000/100000 [00:19<00:00, 164696.99it/s]"
     ]
    }
   ],
   "source": [
    "# READ\n",
    "\n",
    "import tqdm\n",
    "import py2neo\n",
    "\n",
    "graph = py2neo.Graph(\"bolt://localhost:7687\", auth=(\"neo4j\", \"password_tuts\"), name=\"tutorial\")\n",
    "\n",
    "# RETURN returns variable specified\n",
    "\n",
    "# Count number of observation (n_node) with label Person.\n",
    "query = \"\"\"\n",
    "MATCH(person:Person)\n",
    "WITH count(person) AS n_node\n",
    "RETURN n_node\n",
    "\"\"\"\n",
    "data = graph.run(query)\n",
    "n_node = next(data)[\"n_node\"]\n",
    "print(n_node)\n",
    "\n",
    "# Return every node with Label Person\n",
    "query = \"\"\"\n",
    "MATCH(person:Person)\n",
    "RETURN person.name AS name, person.age AS age, person.id_ as id_\n",
    "\"\"\"\n",
    "\n",
    "# Returns a generator\n",
    "data = graph.run(query)\n",
    "\n",
    "#iterate through all elements\n",
    "iteration = 0\n",
    "pbar = tqdm.tqdm(total=n_node)\n",
    "\n",
    "for i in data:\n",
    "    iteration += 1\n",
    "    if iteration == n_node:\n",
    "        print(data[\"name\"])\n",
    "        print(data[\"age\"])\n",
    "        print(data[\"id_\"])\n",
    "    pbar.update(1)\n",
    "\n",
    "# print last element\n"
   ]
  },
  {
   "cell_type": "markdown",
   "metadata": {},
   "source": [
    "### UPDATE"
   ]
  },
  {
   "cell_type": "code",
   "execution_count": 19,
   "metadata": {},
   "outputs": [
    {
     "name": "stdout",
     "output_type": "stream",
     "text": [
      "   person.id_  person.newobs\n",
      "0           0             43\n",
      "1           1             43\n",
      "2           2             43\n",
      "3           3             43\n",
      "4           4             43\n",
      "5           5             43\n",
      "6           6             43\n",
      "7           7             43\n",
      "8           8             43\n",
      "9           9             43\n"
     ]
    }
   ],
   "source": [
    "## update\n",
    "#\n",
    "\n",
    "query = \"\"\"\n",
    "    MATCH (person:Person) \n",
    "    WHERE person.id_ < 10\n",
    "    SET person.newobs = %s\n",
    "    RETURN person.id_, person.newobs\n",
    "    \"\"\" % (43)\n",
    "\n",
    "df = graph.run(query).to_data_frame()\n",
    "print(df)"
   ]
  },
  {
   "cell_type": "markdown",
   "metadata": {},
   "source": [
    "### DELETE"
   ]
  },
  {
   "cell_type": "code",
   "execution_count": 20,
   "metadata": {},
   "outputs": [],
   "source": [
    "# Delete\n",
    "# DETACH to remove edges then DELETE the node\n",
    "query = \"\"\"\n",
    "    MATCH (person:Person) \n",
    "    WHERE person.id_ < 10\n",
    "    DETACH DELETE person\n",
    "    \"\"\" \n",
    "\n",
    "graph.run(query)\n",
    "pass"
   ]
  },
  {
   "cell_type": "markdown",
   "metadata": {},
   "source": [
    "### A study case\n",
    "\n",
    "To become more familiar with neo4j we will convert a csv file to a network and do some stats using cypher queries. The data can be found [here](https://www.kaggle.com/dannielr/marvel-superheroes?select=characters.csv) and I stored it in the folder data in github. First thing to do is to switch the DB. We will call it \"MCU\". Our goal will be to create a node per character and link them by apperance in a comic (Simple binary graph, if they appeared once in the same comic then a link is created). Finally we give each node different properties (power, stats, ....) and finish by doing some query to see basics stats"
   ]
  },
  {
   "cell_type": "code",
   "execution_count": 31,
   "metadata": {},
   "outputs": [
    {
     "name": "stderr",
     "output_type": "stream",
     "text": [
      "1170it [00:01, 977.60it/s]\n"
     ]
    },
    {
     "data": {
      "text/html": [
       "(No data)"
      ],
      "text/plain": [
       "(No data)"
      ]
     },
     "execution_count": 31,
     "metadata": {},
     "output_type": "execute_result"
    }
   ],
   "source": [
    "# initial creation\n",
    "import pandas as pd\n",
    "import tqdm\n",
    "import py2neo\n",
    "\n",
    "# pandas to read_csv , header = True\n",
    "characters = pd.read_csv(\"data/Chap4/Marvel_Superheroes/characters.csv\")\n",
    "graph = py2neo.Graph(\"bolt://localhost:7687\", auth=(\"neo4j\", \"password_tuts\"), name=\"mcu\")\n",
    "\n",
    "graph.delete_all()\n",
    "\n",
    "# CONSTRAINT if condition (here n.id_ is unique) not respected => error\n",
    "# If constraint already exists pass (IF NOT EXISTS probably works too)\n",
    "try:\n",
    "    graph.run(\"CREATE CONSTRAINT ON (n:Superhero) ASSERT n.id_ IS UNIQUE\")\n",
    "except:\n",
    "    print(\"Constraint already exists\")\n",
    "\n",
    "# Init the list that will contains dicts for each node\n",
    "transaction_list = []\n",
    "\n",
    "# iterrows = line by line iterators of the df row[0] = id row[1] = the variables in columns\n",
    "for row in tqdm.tqdm(characters.iterrows()):\n",
    "    id_ = row[1][\"characterID\"]\n",
    "    name = row[1][\"name\"]\n",
    "    transaction_list.append({\"id_\":id_,\"name\":name})\n",
    "    # Commit when list = 1000, vary it depending of the case\n",
    "    if len(transaction_list) == 1000:\n",
    "        # UNWIND = split the list given to it (here $json because json=transaction_list)\n",
    "        # For each dict do the following query CREATE (n:Superhero) SET n = data\n",
    "        transaction = \"UNWIND $json as data CREATE (n:Superhero) SET n = data\"\n",
    "        graph.run(transaction, json=transaction_list)\n",
    "        transaction_list = []\n",
    "\n",
    "# Some observation left (e.g 7700 node, will commit every 100. so 700 left)\n",
    "graph.run(transaction, json=transaction_list)\n",
    "\n",
    "#pass"
   ]
  },
  {
   "cell_type": "code",
   "execution_count": 32,
   "metadata": {},
   "outputs": [
    {
     "name": "stderr",
     "output_type": "stream",
     "text": [
      "611it [00:00, 3866.27it/s]\n"
     ]
    }
   ],
   "source": [
    "import pandas as pd\n",
    "import py2neo\n",
    "\n",
    "stats = pd.read_csv(\"data/Chap4/Marvel_Superheroes/characters_stats.csv\")\n",
    "graph = py2neo.Graph(\"bolt://localhost:7687\", auth=(\"neo4j\", \"password_tuts\"), name=\"mcu\")\n",
    "\n",
    "\n",
    "# OPTIONAL MATCH =>  search for the pattern described in it, while using nulls for missing parts of the pattern.\n",
    "transaction = \"\"\"UNWIND $json as data\n",
    "OPTIONAL MATCH (a:Superhero {name:data.Name})\n",
    "SET a += {Alignement:data.Alignement,Intelligence:data.Intelligence,Strength:data.Strength,Speed:data.Speed,Durability:data.Durability,\n",
    "         Power:data.Power,Combat:data.Combat,Total:data.Total} \n",
    "\"\"\"\n",
    "\n",
    "transaction_list = []\n",
    "\n",
    "iteration = 0\n",
    "for row in tqdm.tqdm(stats.iterrows()):\n",
    "    transaction_list.append(dict(row[1]))\n",
    "    iteration += 1\n",
    "    if iteration % 1000 == 0:\n",
    "        graph.run(transaction, json=transaction_list)\n",
    "        transaction_list = []\n",
    "        \n",
    "graph.run(transaction, json=transaction_list)\n",
    "\n",
    "pass"
   ]
  },
  {
   "cell_type": "code",
   "execution_count": 33,
   "metadata": {},
   "outputs": [
    {
     "name": "stderr",
     "output_type": "stream",
     "text": [
      "100%|██████████| 22250/22250 [00:36<00:00, 602.34it/s] \n"
     ]
    }
   ],
   "source": [
    "# edges\n",
    "import pandas as pd\n",
    "import tqdm\n",
    "import py2neo\n",
    "import itertools\n",
    "\n",
    "graph = py2neo.Graph(\"bolt://localhost:7687\", auth=(\"neo4j\", \"password_tuts\"), name=\"mcu\")\n",
    "\n",
    "characters2comics = pd.read_csv(\"data/Chap4/Marvel_Superheroes/charactersToComics.csv\")\n",
    "characters2comics = characters2comics.drop_duplicates()\n",
    "transaction_list = []\n",
    "\n",
    "# MERGE = if pattern does not exists ON CREATE\n",
    "# If pattern exists do ON MATCH\n",
    "\n",
    "\n",
    "\n",
    "transaction = \"\"\"UNWIND $json as data\n",
    "MATCH (a:Superhero),(b:Superhero)\n",
    "WHERE a.id_ = data.id_1 AND b.id_ = data.id_2\n",
    "MERGE (a)-[r:RELATION]->(b)\n",
    "ON CREATE\n",
    "    SET r.n_collab = 1\n",
    "ON MATCH\n",
    "    SET r.n_collab = r.n_collab + 1\n",
    "\"\"\"\n",
    "\n",
    "it = 0   \n",
    "for comic in tqdm.tqdm(characters2comics.groupby([\"comicID\"])):\n",
    "    related_ids = comic[1][\"characterID\"]\n",
    "    for combi in list(itertools.combinations(related_ids, 2)):\n",
    "        sh1 = combi[0]\n",
    "        sh2 = combi[1]\n",
    "        transaction_list.append({\"id_1\":sh1,\"id_2\":sh2})\n",
    "        it +=1\n",
    "        if it % 1000 == 0:\n",
    "            graph.run(transaction, json=transaction_list)\n",
    "            transaction_list = []\n",
    "\n",
    "graph.run(transaction, json=transaction_list)\n",
    "pass"
   ]
  },
  {
   "cell_type": "code",
   "execution_count": 44,
   "metadata": {},
   "outputs": [
    {
     "name": "stdout",
     "output_type": "stream",
     "text": [
      "0    {'n_collab': 136}\n",
      "Name: r, dtype: object 0    {'name': 'Pepper Potts', 'id_': 1009494}\n",
      "Name: a, dtype: object 0    {'Speed': 58, 'Intelligence': 100, 'id_': 1009...\n",
      "Name: b, dtype: object\n"
     ]
    }
   ],
   "source": [
    "# Let's see if everything works well\n",
    "import py2neo\n",
    "\n",
    "graph = py2neo.Graph(\"bolt://localhost:7687\", auth=(\"neo4j\", \"password_tuts\"), name=\"mcu\")\n",
    "\n",
    "query = \"\"\"MATCH (a:Superhero{name:'Pepper Potts'})-[r:RELATION]-(b:Superhero{name:'Iron Man'}) RETURN r,a,b\"\"\"\n",
    "data = graph.run(query).to_data_frame()\n",
    "print(data[\"r\"],data[\"a\"],data[\"b\"])"
   ]
  },
  {
   "cell_type": "code",
   "execution_count": 35,
   "metadata": {},
   "outputs": [],
   "source": [
    "# Time to do some interesting stats\n",
    "\n",
    "import seaborn as sns\n",
    "import py2neo\n",
    "import pandas as pd\n",
    "\n",
    "graph = py2neo.Graph(\"bolt://localhost:7687\", auth=(\"neo4j\", \"password_tuts\"), name=\"mcu\")\n",
    "\n",
    "# Get every property key and some basic stats\n",
    "\n",
    "# Get unique keys to init df\n",
    "query = \"\"\"MATCH (p:Superhero)\n",
    "WHERE exists(p.Total)\n",
    "WITH p, keys(p) as pKeys\n",
    "UNWIND pKeys as Key\n",
    "RETURN distinct Key\"\"\"\n",
    "\n",
    "data = graph.run(query).to_data_frame()\n",
    "df = pd.DataFrame(columns = list(data[\"Key\"]),dtype=\"int8\")\n"
   ]
  },
  {
   "cell_type": "code",
   "execution_count": 43,
   "metadata": {},
   "outputs": [
    {
     "name": "stdout",
     "output_type": "stream",
     "text": [
      "      degree\n",
      "0         74\n",
      "1        220\n",
      "2        255\n",
      "3        117\n",
      "4        118\n",
      "...      ...\n",
      "1165       5\n",
      "1166       0\n",
      "1167       2\n",
      "1168       1\n",
      "1169       9\n",
      "\n",
      "[1170 rows x 1 columns]\n"
     ]
    }
   ],
   "source": [
    "print(data)"
   ]
  },
  {
   "cell_type": "code",
   "execution_count": 38,
   "metadata": {},
   "outputs": [
    {
     "ename": "AttributeError",
     "evalue": "'DataFrame' object has no attribute 'append'",
     "output_type": "error",
     "traceback": [
      "\u001b[1;31m---------------------------------------------------------------------------\u001b[0m",
      "\u001b[1;31mAttributeError\u001b[0m                            Traceback (most recent call last)",
      "\u001b[1;32m~\\AppData\\Local\\Temp\\ipykernel_15924\\4083548769.py\u001b[0m in \u001b[0;36m?\u001b[1;34m()\u001b[0m\n\u001b[0;32m      3\u001b[0m \u001b[0mWHERE\u001b[0m \u001b[0mexists\u001b[0m\u001b[1;33m(\u001b[0m\u001b[0mp\u001b[0m\u001b[1;33m.\u001b[0m\u001b[0mTotal\u001b[0m\u001b[1;33m)\u001b[0m\u001b[1;33m\u001b[0m\u001b[1;33m\u001b[0m\u001b[0m\n\u001b[0;32m      4\u001b[0m RETURN p\"\"\"\n\u001b[0;32m      5\u001b[0m \u001b[0mdata\u001b[0m \u001b[1;33m=\u001b[0m \u001b[0mgraph\u001b[0m\u001b[1;33m.\u001b[0m\u001b[0mrun\u001b[0m\u001b[1;33m(\u001b[0m\u001b[0mquery\u001b[0m\u001b[1;33m)\u001b[0m\u001b[1;33m.\u001b[0m\u001b[0mto_data_frame\u001b[0m\u001b[1;33m(\u001b[0m\u001b[1;33m)\u001b[0m\u001b[1;33m\u001b[0m\u001b[1;33m\u001b[0m\u001b[0m\n\u001b[0;32m      6\u001b[0m \u001b[1;32mfor\u001b[0m \u001b[0mnode\u001b[0m \u001b[1;32min\u001b[0m \u001b[0mdata\u001b[0m\u001b[1;33m[\u001b[0m\u001b[1;34m\"p\"\u001b[0m\u001b[1;33m]\u001b[0m\u001b[1;33m:\u001b[0m\u001b[1;33m\u001b[0m\u001b[1;33m\u001b[0m\u001b[0m\n\u001b[1;32m----> 7\u001b[1;33m     \u001b[0mdf\u001b[0m \u001b[1;33m=\u001b[0m \u001b[0mdf\u001b[0m\u001b[1;33m.\u001b[0m\u001b[0mappend\u001b[0m\u001b[1;33m(\u001b[0m\u001b[0mdict\u001b[0m\u001b[1;33m(\u001b[0m\u001b[0mnode\u001b[0m\u001b[1;33m)\u001b[0m\u001b[1;33m,\u001b[0m \u001b[0mignore_index\u001b[0m\u001b[1;33m=\u001b[0m\u001b[1;32mTrue\u001b[0m\u001b[1;33m)\u001b[0m\u001b[1;33m\u001b[0m\u001b[1;33m\u001b[0m\u001b[0m\n\u001b[0m\u001b[0;32m      8\u001b[0m \u001b[1;33m\u001b[0m\u001b[0m\n\u001b[0;32m      9\u001b[0m \u001b[0mprint\u001b[0m\u001b[1;33m(\u001b[0m\u001b[0mdf\u001b[0m\u001b[1;33m)\u001b[0m\u001b[1;33m\u001b[0m\u001b[1;33m\u001b[0m\u001b[0m\n",
      "\u001b[1;32mc:\\Users\\ndubo\\Desktop\\NoSQL-master\\venv\\Lib\\site-packages\\pandas\\core\\generic.py\u001b[0m in \u001b[0;36m?\u001b[1;34m(self, name)\u001b[0m\n\u001b[0;32m   6295\u001b[0m             \u001b[1;32mand\u001b[0m \u001b[0mname\u001b[0m \u001b[1;32mnot\u001b[0m \u001b[1;32min\u001b[0m \u001b[0mself\u001b[0m\u001b[1;33m.\u001b[0m\u001b[0m_accessors\u001b[0m\u001b[1;33m\u001b[0m\u001b[1;33m\u001b[0m\u001b[0m\n\u001b[0;32m   6296\u001b[0m             \u001b[1;32mand\u001b[0m \u001b[0mself\u001b[0m\u001b[1;33m.\u001b[0m\u001b[0m_info_axis\u001b[0m\u001b[1;33m.\u001b[0m\u001b[0m_can_hold_identifiers_and_holds_name\u001b[0m\u001b[1;33m(\u001b[0m\u001b[0mname\u001b[0m\u001b[1;33m)\u001b[0m\u001b[1;33m\u001b[0m\u001b[1;33m\u001b[0m\u001b[0m\n\u001b[0;32m   6297\u001b[0m         ):\n\u001b[0;32m   6298\u001b[0m             \u001b[1;32mreturn\u001b[0m \u001b[0mself\u001b[0m\u001b[1;33m[\u001b[0m\u001b[0mname\u001b[0m\u001b[1;33m]\u001b[0m\u001b[1;33m\u001b[0m\u001b[1;33m\u001b[0m\u001b[0m\n\u001b[1;32m-> 6299\u001b[1;33m         \u001b[1;32mreturn\u001b[0m \u001b[0mobject\u001b[0m\u001b[1;33m.\u001b[0m\u001b[0m__getattribute__\u001b[0m\u001b[1;33m(\u001b[0m\u001b[0mself\u001b[0m\u001b[1;33m,\u001b[0m \u001b[0mname\u001b[0m\u001b[1;33m)\u001b[0m\u001b[1;33m\u001b[0m\u001b[1;33m\u001b[0m\u001b[0m\n\u001b[0m",
      "\u001b[1;31mAttributeError\u001b[0m: 'DataFrame' object has no attribute 'append'"
     ]
    }
   ],
   "source": [
    "# For each author append the dict to dataframe\n",
    "query = \"\"\"MATCH (p)\n",
    "WHERE exists(p.Total)\n",
    "RETURN p\"\"\"\n",
    "data = graph.run(query).to_data_frame()\n",
    "for node in data[\"p\"]:\n",
    "    df = df.append(dict(node), ignore_index=True)\n",
    "    \n",
    "print(df.loc[:,\"Durability\":\"Combat\"])    "
   ]
  },
  {
   "cell_type": "code",
   "execution_count": 39,
   "metadata": {},
   "outputs": [
    {
     "name": "stdout",
     "output_type": "stream",
     "text": [
      "     Durability  Strength  Power  Speed  Intelligence  Combat  Total      id_  \\\n",
      "0            56        19     46     35            63     100    319  1009220   \n",
      "1            65        32     60     35            56      84    332  1010740   \n",
      "2            42        11     25     23            75     100    276  1009471   \n",
      "3            28        16     22     23            50     100    239  1009515   \n",
      "4            14        10     19     12            75      80    210  1009535   \n",
      "..          ...       ...    ...    ...           ...     ...    ...      ...   \n",
      "192          14         5     62     12            25      14    132  1011092   \n",
      "193          35        48     54     42            50      60    289  1011071   \n",
      "194           1         1      0      1             1       1      5  1009248   \n",
      "195          80        80     84     33            63      84    424  1011073   \n",
      "196          80        32     38     45            63      65    323  1011349   \n",
      "\n",
      "                name  \n",
      "0    Captain America  \n",
      "1     Winter Soldier  \n",
      "2          Nick Fury  \n",
      "3           Punisher  \n",
      "4          Red Skull  \n",
      "..               ...  \n",
      "192            Leech  \n",
      "193       Demogoblin  \n",
      "194    Fabian Cortez  \n",
      "195         Bloodaxe  \n",
      "196         Blackout  \n",
      "\n",
      "[197 rows x 9 columns]\n"
     ]
    }
   ],
   "source": [
    "rows = []\n",
    "\n",
    "for node in data[\"p\"]:\n",
    "    rows.append(dict(node))\n",
    "\n",
    "new_df = pd.DataFrame(rows)\n",
    "\n",
    "df = pd.concat([df, new_df], ignore_index=True)\n"
   ]
  },
  {
   "cell_type": "code",
   "execution_count": 40,
   "metadata": {},
   "outputs": [
    {
     "name": "stdout",
     "output_type": "stream",
     "text": [
      "     Durability  Strength  Power  Speed  Intelligence  Combat  Total      id_  \\\n",
      "0            56        19     46     35            63     100    319  1009220   \n",
      "1            65        32     60     35            56      84    332  1010740   \n",
      "2            42        11     25     23            75     100    276  1009471   \n",
      "3            28        16     22     23            50     100    239  1009515   \n",
      "4            14        10     19     12            75      80    210  1009535   \n",
      "..          ...       ...    ...    ...           ...     ...    ...      ...   \n",
      "192          14         5     62     12            25      14    132  1011092   \n",
      "193          35        48     54     42            50      60    289  1011071   \n",
      "194           1         1      0      1             1       1      5  1009248   \n",
      "195          80        80     84     33            63      84    424  1011073   \n",
      "196          80        32     38     45            63      65    323  1011349   \n",
      "\n",
      "                name  \n",
      "0    Captain America  \n",
      "1     Winter Soldier  \n",
      "2          Nick Fury  \n",
      "3           Punisher  \n",
      "4          Red Skull  \n",
      "..               ...  \n",
      "192            Leech  \n",
      "193       Demogoblin  \n",
      "194    Fabian Cortez  \n",
      "195         Bloodaxe  \n",
      "196         Blackout  \n",
      "\n",
      "[197 rows x 9 columns]\n"
     ]
    }
   ],
   "source": [
    "print(df)"
   ]
  },
  {
   "cell_type": "code",
   "execution_count": 21,
   "metadata": {},
   "outputs": [
    {
     "name": "stderr",
     "output_type": "stream",
     "text": [
      "C:\\Users\\ndubo\\AppData\\Local\\Temp\\ipykernel_15924\\194958518.py:1: UserWarning: \n",
      "\n",
      "`distplot` is a deprecated function and will be removed in seaborn v0.14.0.\n",
      "\n",
      "Please adapt your code to use either `displot` (a figure-level function with\n",
      "similar flexibility) or `histplot` (an axes-level function for histograms).\n",
      "\n",
      "For a guide to updating your code to use the new functions, please see\n",
      "https://gist.github.com/mwaskom/de44147ed2974457ad6372750bbe5751\n",
      "\n",
      "  sns.distplot(df[\"Strength\"])\n"
     ]
    },
    {
     "data": {
      "text/plain": [
       "<Axes: xlabel='Strength', ylabel='Density'>"
      ]
     },
     "execution_count": 21,
     "metadata": {},
     "output_type": "execute_result"
    },
    {
     "data": {
      "image/png": "[encoded data removed]",
      "text/plain": [
       "<Figure size 640x480 with 1 Axes>"
      ]
     },
     "metadata": {},
     "output_type": "display_data"
    }
   ],
   "source": [
    "sns.distplot(df[\"Strength\"])"
   ]
  },
  {
   "cell_type": "code",
   "execution_count": 42,
   "metadata": {},
   "outputs": [
    {
     "name": "stdout",
     "output_type": "stream",
     "text": [
      "      degree\n",
      "0         74\n",
      "1        220\n",
      "2        255\n",
      "3        117\n",
      "4        118\n",
      "...      ...\n",
      "1165       5\n",
      "1166       0\n",
      "1167       2\n",
      "1168       1\n",
      "1169       9\n",
      "\n",
      "[1170 rows x 1 columns]\n"
     ]
    }
   ],
   "source": [
    "# density of degrees\n",
    "\n",
    "# The WITH clause allows query parts to be chained together, \n",
    "# piping the results from one to be used as starting points or criteria in the next.\n",
    "# size(()-[:RELATION]->(p)) = number of relation that goes into node p  \n",
    "query =  \"\"\"\n",
    "MATCH (p)\n",
    "WITH p, size(()-[:RELATION]->(p)) as degree\n",
    "RETURN degree\n",
    "\"\"\"\n",
    "data = graph.run(query).to_data_frame()\n",
    "#ax = sns.distplot(data[\"degree\"],hist=False)\n",
    "#ax.title.set_text(\"Density of degrees\")\n",
    "print(data)"
   ]
  },
  {
   "cell_type": "code",
   "execution_count": 23,
   "metadata": {},
   "outputs": [
    {
     "name": "stderr",
     "output_type": "stream",
     "text": [
      "C:\\Users\\ndubo\\AppData\\Local\\Temp\\ipykernel_15924\\1740319014.py:6: UserWarning: \n",
      "\n",
      "`distplot` is a deprecated function and will be removed in seaborn v0.14.0.\n",
      "\n",
      "Please adapt your code to use either `displot` (a figure-level function with\n",
      "similar flexibility) or `kdeplot` (an axes-level function for kernel density plots).\n",
      "\n",
      "For a guide to updating your code to use the new functions, please see\n",
      "https://gist.github.com/mwaskom/de44147ed2974457ad6372750bbe5751\n",
      "\n",
      "  ax = sns.distplot(data[\"r.n_collab\"],hist=False)\n"
     ]
    },
    {
     "data": {
      "image/png": "[encoded data removed]",
      "text/plain": [
       "<Figure size 640x480 with 1 Axes>"
      ]
     },
     "metadata": {},
     "output_type": "display_data"
    }
   ],
   "source": [
    "# density of weights\n",
    "\n",
    "# Return the n_collab attribute from link = weight of the edge\n",
    "query = \"\"\"MATCH (a:Superhero)-[r:RELATION]-(b:Superhero) RETURN r.n_collab\"\"\"\n",
    "data = graph.run(query).to_data_frame()\n",
    "ax = sns.distplot(data[\"r.n_collab\"],hist=False)\n",
    "ax.title.set_text(\"Density of weights\")"
   ]
  },
  {
   "cell_type": "code",
   "execution_count": 24,
   "metadata": {},
   "outputs": [
    {
     "data": {
      "text/plain": [
       "[Node('Superhero', Combat=85, Durability=110, Intelligence=88, Power=100, Speed=100, Strength=85, Total=568, id_=1010764, name='Stardust'),\n",
       " Node('Superhero', Combat=70, Durability=100, Intelligence=100, Power=100, Speed=83, Strength=100, Total=553, id_=1009312, name='Galactus'),\n",
       " Node('Superhero', Combat=80, Durability=100, Intelligence=88, Power=100, Speed=83, Strength=95, Total=546, id_=1009280, name='Dormammu'),\n",
       " Node('Superhero', Combat=85, Durability=100, Intelligence=69, Power=100, Speed=92, Strength=100, Total=546, id_=1009664, name='Thor'),\n",
       " Node('Superhero', Combat=70, Durability=100, Intelligence=100, Power=100, Speed=67, Strength=80, Total=517, id_=1009496, name='Jean Grey'),\n",
       " Node('Superhero', Combat=70, Durability=100, Intelligence=100, Power=100, Speed=67, Strength=80, Total=517, id_=1009327, name='Jean Grey'),\n",
       " Node('Superhero', Combat=85, Durability=100, Intelligence=88, Power=100, Speed=47, Strength=85, Total=505, id_=1009483, name='Onslaught'),\n",
       " Node('Superhero', Combat=60, Durability=100, Intelligence=100, Power=100, Speed=33, Strength=100, Total=493, id_=1009156, name='Apocalypse'),\n",
       " Node('Superhero', Combat=64, Durability=85, Intelligence=100, Power=100, Speed=58, Strength=85, Total=492, id_=1009368, name='Iron Man'),\n",
       " Node('Superhero', Combat=80, Durability=100, Intelligence=88, Power=100, Speed=17, Strength=100, Total=485, id_=1009652, name='Thanos')]"
      ]
     },
     "execution_count": 24,
     "metadata": {},
     "output_type": "execute_result"
    }
   ],
   "source": [
    "# TOP 10\n",
    "\n",
    "# ORDER BY attribute of a node\n",
    "# Only 10 result\n",
    "\n",
    "query = \"\"\"MATCH (a:Superhero)\n",
    "WHERE exists(a.Total)\n",
    "RETURN a\n",
    "ORDER BY a.Total DESC\n",
    "LIMIT 10\"\"\"\n",
    "data = graph.run(query).to_data_frame()\n",
    "list(data[\"a\"])"
   ]
  },
  {
   "cell_type": "code",
   "execution_count": 25,
   "metadata": {},
   "outputs": [
    {
     "name": "stderr",
     "output_type": "stream",
     "text": [
      "C:\\Users\\ndubo\\AppData\\Local\\Temp\\ipykernel_15924\\1913904745.py:6: UserWarning: \n",
      "\n",
      "`distplot` is a deprecated function and will be removed in seaborn v0.14.0.\n",
      "\n",
      "Please adapt your code to use either `displot` (a figure-level function with\n",
      "similar flexibility) or `kdeplot` (an axes-level function for kernel density plots).\n",
      "\n",
      "For a guide to updating your code to use the new functions, please see\n",
      "https://gist.github.com/mwaskom/de44147ed2974457ad6372750bbe5751\n",
      "\n",
      "  ax = sns.distplot(data[\"r.n_collab\"],hist=False)\n"
     ]
    },
    {
     "data": {
      "image/png": "[encoded data removed]",
      "text/plain": [
       "<Figure size 640x480 with 1 Axes>"
      ]
     },
     "metadata": {},
     "output_type": "display_data"
    }
   ],
   "source": [
    "# Does total strength affect collaboration ? seems not like it\n",
    "\n",
    "# One way is to test if strong heroes have a different density\n",
    "query = \"\"\"MATCH (a:Superhero)-[r:RELATION]-(b:Superhero) WHERE a.Total > 480 RETURN a.name,r.n_collab\"\"\"\n",
    "data = graph.run(query).to_data_frame()\n",
    "ax = sns.distplot(data[\"r.n_collab\"],hist=False)\n",
    "ax.title.set_text(\"Density of weights\")"
   ]
  },
  {
   "cell_type": "code",
   "execution_count": 26,
   "metadata": {},
   "outputs": [
    {
     "name": "stderr",
     "output_type": "stream",
     "text": [
      "100%|█████████▉| 1169/1170 [00:28<00:00, 54.62it/s]"
     ]
    },
    {
     "name": "stderr",
     "output_type": "stream",
     "text": [
      "100%|██████████| 1170/1170 [00:40<00:00, 54.62it/s]"
     ]
    }
   ],
   "source": [
    "# Sometimes delete all can be slow, remove one by one this way:\n",
    "import py2neo\n",
    "\n",
    "graph = py2neo.Graph(\"bolt://localhost:7687\", auth=(\"neo4j\", \"password_tuts\"), name=\"mcu\")\n",
    "\n",
    "query = \"\"\"\n",
    "MATCH(p:Superhero)\n",
    "WITH count(p) AS n_node\n",
    "RETURN n_node\n",
    "\"\"\"\n",
    "\n",
    "data = graph.run(query)\n",
    "n_node = next(data)[\"n_node\"]\n",
    "\n",
    "query = \"\"\"\n",
    "MATCH(p:Superhero)\n",
    "RETURN p.id_\n",
    "\"\"\"\n",
    "\n",
    "# Returns a generator\n",
    "data = graph.run(query)\n",
    "\n",
    "#iterate through all elements\n",
    "iteration = 0\n",
    "pbar = tqdm.tqdm(total=n_node)\n",
    "\n",
    "for i in range(n_node):\n",
    "    Superhero = next(data)\n",
    "    query = \"\"\"\n",
    "    MATCH (p:Superhero) \n",
    "    WHERE p.id_ = {}\n",
    "    DETACH DELETE p\n",
    "    \"\"\".format(Superhero[\"p.id_\"])\n",
    "    iteration += 1\n",
    "    pbar.update(1)\n",
    "    graph.run(query)\n"
   ]
  },
  {
   "cell_type": "markdown",
   "metadata": {},
   "source": [
    "### Exercises\n",
    "\n",
    "#### CRUD operations:\n",
    "\n",
    "\n",
    "**1**: You will continue to work on the MCU network for a while. Who are the 10 fastest in the MCU ? Are they related to each other ?\n",
    "\n",
    "**2**: How many have collaborated atleast more than 10 times with another superhero?\n",
    "\n",
    "**3**: Did the weakest of the MCU collaborated with the strongest ?\n",
    "\n",
    "**4**: Give a stats that interests you !\n",
    "\n",
    "**5**: Create a new db called \"master\". Create a graph from the M1 class with name and random age between 20 and 30, Group of 3 that collab (undirected relation).\n",
    "\n",
    "**6**: Get the age for people YOU collaborate with.\n",
    "\n",
    "**7**: Get nodes with age > 25.\n",
    "\n",
    "### Real world problem:\n",
    "\n",
    "**8**: Using the downloaded data in TODO 11 of chapter II, create a collaboration network between authors for papers after 2021 (same author if same name). Insert it in neo4j in a db called \"arxiv\".\n",
    "\n",
    "**9**: Get the density of degrees of the collaboration network\n",
    "\n",
    "**10**: Do a for loop for i in range(500) for each i remove nodes with a degree less than i.\n"
   ]
  },
  {
   "attachments": {},
   "cell_type": "markdown",
   "metadata": {},
   "source": [
    "### Real World application 3\n",
    "\n",
    "You will work again on [pubmed_last_100k.json](https://we.tl/t-6afLCDGRsg). The goal in this homework is to insert collaboration data in Neo4j and then study it using cypher queries. The following questions are meant to guide you through the process.\n",
    "\n",
    "1) Each paper has a list of author and affiliations. The first step is to create a node per author with a list of affiliation as attribute. If a name appears multiple times consider it as a single person. Create an edge between two authors if they are on the same paper. You can use any kind of operation to clean the data before inserting, you decide which preprocessing step is the most convenient.\n",
    "\n",
    "2) How many authors have more than 2 affiliations ?\n",
    "\n",
    "3) Create a density of node degrees. Do you observe a power scale law ? What does it mean ?\n",
    "\n",
    "4) Which country has seen the most international collaboration ?\n",
    "\n",
    "5) Who are the top 10 collaborators and what is their affiliation ?\n",
    "\n",
    "6) Sandbox exercise: think of a problematic and try to answer it."
   ]
  },
  {
   "attachments": {},
   "cell_type": "markdown",
   "metadata": {},
   "source": [
    "### Real World application 4\n",
    "\n",
    "change the database \"neo4j\" to the database \"movie\". Go to the browser and run on the browser console :play movie-graph then copy the queries on the console and run it. Congrats you just imported a brand new sample of data. Answer the following questions with cypher queries.\n",
    "\n",
    "1) How many actors played in more than 2 movie ? Get their names and year they were born.\n",
    "\n",
    "2) In how many movies did Tom hanks play ?\n",
    "\n",
    "3) In average in how many movies do actors play in ?\n",
    "\n",
    "4) In average how many actors are there in a movie ?\n",
    "\n",
    "5) In average how many writers is needed to write a movie ?\n",
    "\n",
    "6) What is the proportion of writers that also directed the movie ?\n",
    "\n",
    "7) Do an histogram of the year of release for the movies.\n",
    "\n",
    "8) Who are the 10 actors with the most movie played in\n",
    "\n",
    "9) Delete every movie made by a director of your choosing\n",
    "\n",
    "10) Give some statistics that you find interesting.\n",
    "\n",
    "11) Sandbox exercise: think of a problematic and try to answer it."
   ]
  },
  {
   "attachments": {},
   "cell_type": "markdown",
   "metadata": {},
   "source": [
    "## Homework 5\n",
    "\n",
    "You will work on a Twitch dataset found [here](https://www.kaggle.com/andreagarritano/twitch-social-networks). The goal is to learn more about the feat&fun on Twitch. First thing to do is create the network on Neo4j. Insert the node\n",
    "from Twitch/FR_target and then the edges from Twitch/FR_edges.csv in neo4j. Answer the following using cypher queries\n",
    "\n",
    "1) Give the IDs of the top 10 streamers that have atleast one collaboration.\n",
    "\n",
    "2) Create a density of node degrees. Do you observe a power scale law ? What does it mean ?\n",
    "\n",
    "3) How many streamers has the tag \"mature\" ?\n",
    "\n",
    "4) Is the collaboration correlated to the \"mature\" tag ?\n",
    "\n",
    "5) Do partners collaborate more than non partners ?\n",
    "\n",
    "6) Sandbox exercise: think of a problematic and try to answer it.\n"
   ]
  },
  {
   "attachments": {},
   "cell_type": "markdown",
   "metadata": {},
   "source": [
    "## Homework 6 \n",
    "\n",
    "You will work on a stackoverflow dataset found [here](https://www.kaggle.com/stackoverflow/stack-overflow-tag-network). First thing to do is create the network on Neo4j. You can find the characteristics of the nodes in stack_network_nodes.csv.\n",
    "Once the node are create you can create the edges between them, you can find them in stack_network_links.csv. The weight of the edge is the column value. Answer the following making use of cypher queries.\n",
    "\n",
    "1) What are the 10 most popular keywords ?\n",
    "\n",
    "2) What are the top 10 Co-occurence ?\n",
    "\n",
    "3) How many keywords are in group 1 ?\n",
    "\n",
    "3) Is the Co-occurence correlated to the \"group\" of the keyword ?  \n",
    "\n",
    "4) Sandbox exercise: think of a problematic and try to answer it."
   ]
  }
 ],
 "metadata": {
  "kernelspec": {
   "display_name": "Python 3",
   "language": "python",
   "name": "python3"
  },
  "language_info": {
   "codemirror_mode": {
    "name": "ipython",
    "version": 3
   },
   "file_extension": ".py",
   "mimetype": "text/x-python",
   "name": "python",
   "nbconvert_exporter": "python",
   "pygments_lexer": "ipython3",
   "version": "3.11.1"
  }
 },
 "nbformat": 4,
 "nbformat_minor": 4
}
