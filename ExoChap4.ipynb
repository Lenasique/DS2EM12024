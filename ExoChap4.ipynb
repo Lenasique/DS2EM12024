{
 "cells": [
  {
   "cell_type": "code",
   "execution_count": null,
   "metadata": {},
   "outputs": [],
   "source": []
  },
  {
   "cell_type": "markdown",
   "metadata": {},
   "source": [
    "### Exercises\n",
    "\n",
    "#### CRUD operations:\n",
    "\n",
    "\n",
    "**1**: You will continue to work on the MCU network for a while. Who are the 10 fastest in the MCU ? Are they related to each other ?\n",
    "\n",
    "**2**: How many have collaborated atleast more than 10 times with another superhero?\n",
    "\n",
    "**3**: Did the weakest of the MCU collaborated with the strongest ?\n",
    "\n",
    "**4**: Give a stats that interests you !\n",
    "\n",
    "**5**: Create a new db called \"master\". Create a graph from the M1 class with name and random age between 20 and 30, Group of 3 that collab (undirected relation).\n",
    "\n",
    "**6**: Get the age for people YOU collaborate with.\n",
    "\n",
    "**7**: Get nodes with age > 25.\n",
    "\n",
    "### Real world problem:\n",
    "\n",
    "**8**: Using the downloaded data in TODO 11 of chapter II, create a collaboration network between authors for papers after 2021 (same author if same name). Insert it in neo4j in a db called \"arxiv\".\n",
    "\n",
    "**9**: Get the density of degrees of the collaboration network\n",
    "\n",
    "**10**: Do a for loop for i in range(500) for each i remove nodes with a degree less than i.\n"
   ]
  },
  {
   "cell_type": "code",
   "execution_count": 3,
   "metadata": {},
   "outputs": [],
   "source": [
    "import seaborn as sns\n",
    "import py2neo\n",
    "import pandas as pd\n",
    "import itertools\n",
    "import tqdm\n",
    "\n",
    "graph = py2neo.Graph(\"bolt://localhost:7687\", auth=(\"neo4j\", \"password_tuts\"), name=\"mcu\")\n"
   ]
  },
  {
   "cell_type": "code",
   "execution_count": 4,
   "metadata": {},
   "outputs": [
    {
     "data": {
      "text/plain": [
       "[Node('Superhero', Combat=56, Durability=84, Intelligence=75, Power=100, Speed=100, Strength=67, Total=482, id_=1009184, name='Black Bolt'),\n",
       " Node('Superhero', Combat=85, Durability=110, Intelligence=88, Power=100, Speed=100, Strength=85, Total=568, id_=1010764, name='Stardust'),\n",
       " Node('Superhero', Combat=56, Durability=60, Intelligence=63, Power=57, Speed=100, Strength=28, Total=364, id_=1009524, name='Quicksilver'),\n",
       " Node('Superhero', Combat=25, Durability=100, Intelligence=38, Power=100, Speed=100, Strength=60, Total=423, id_=1009477, name='Nova'),\n",
       " Node('Superhero', Combat=85, Durability=100, Intelligence=69, Power=100, Speed=92, Strength=100, Total=546, id_=1009664, name='Thor'),\n",
       " Node('Superhero', Combat=32, Durability=101, Intelligence=63, Power=100, Speed=84, Strength=100, Total=480, id_=1009592, name='Silver Surfer'),\n",
       " Node('Superhero', Combat=70, Durability=100, Intelligence=100, Power=100, Speed=83, Strength=100, Total=553, id_=1009312, name='Galactus'),\n",
       " Node('Superhero', Combat=80, Durability=100, Intelligence=88, Power=100, Speed=83, Strength=95, Total=546, id_=1009280, name='Dormammu'),\n",
       " Node('Superhero', Combat=28, Durability=99, Intelligence=88, Power=71, Speed=83, Strength=80, Total=449, id_=1011060, name='Ego'),\n",
       " Node('Superhero', Combat=70, Durability=56, Intelligence=50, Power=70, Speed=83, Strength=18, Total=347, id_=1009476, name='Northstar')]"
      ]
     },
     "execution_count": 4,
     "metadata": {},
     "output_type": "execute_result"
    }
   ],
   "source": [
    "#**1**: You will continue to work on the MCU network for a while. Who are the 10 fastest in the MCU ? Are they related to each other ?\n",
    "query = \"\"\"MATCH (a)\n",
    "WHERE exists(a.Speed)\n",
    "RETURN a\n",
    "ORDER BY a.Speed DESC\n",
    "LIMIT 10\"\"\"\n",
    "\n",
    "data = graph.run(query).to_data_frame()\n",
    "list(data['a'])"
   ]
  },
  {
   "cell_type": "markdown",
   "metadata": {},
   "source": [
    "<img src=\"img/graph.png\"> \n",
    "\n",
    "On peut voir que les 10 plus rapides sont plutot liés les uns aux autres."
   ]
  },
  {
   "cell_type": "code",
   "execution_count": 5,
   "metadata": {},
   "outputs": [
    {
     "name": "stderr",
     "output_type": "stream",
     "text": [
      "100%|██████████| 22250/22250 [00:28<00:00, 767.83it/s] \n"
     ]
    }
   ],
   "source": [
    "# (Repris du cours) \n",
    "characters2comics = pd.read_csv(\"data/Chap4/Marvel_Superheroes/charactersToComics.csv\")\n",
    "characters2comics = characters2comics.drop_duplicates()\n",
    "transaction_list = []\n",
    "\n",
    "# MERGE = if pattern does not exists ON CREATE\n",
    "# If pattern exists do ON MATCH\n",
    "\n",
    "\n",
    "\n",
    "transaction = \"\"\"UNWIND $json as data\n",
    "MATCH (a:Superhero),(b:Superhero)\n",
    "WHERE a.id_ = data.id_1 AND b.id_ = data.id_2\n",
    "MERGE (a)-[r:RELATION]->(b)\n",
    "ON CREATE\n",
    "    SET r.n_collab = 1\n",
    "ON MATCH\n",
    "    SET r.n_collab = r.n_collab + 1\n",
    "\"\"\"\n",
    "\n",
    "it = 0   \n",
    "for comic in tqdm.tqdm(characters2comics.groupby([\"comicID\"])):\n",
    "    related_ids = comic[1][\"characterID\"]\n",
    "    for combi in list(itertools.combinations(related_ids, 2)):\n",
    "        sh1 = combi[0]\n",
    "        sh2 = combi[1]\n",
    "        transaction_list.append({\"id_1\":sh1,\"id_2\":sh2})\n",
    "        it +=1\n",
    "        if it % 1000 == 0:\n",
    "            graph.run(transaction, json=transaction_list)\n",
    "            transaction_list = []\n",
    "\n",
    "graph.run(transaction, json=transaction_list)\n",
    "pass"
   ]
  },
  {
   "cell_type": "code",
   "execution_count": 6,
   "metadata": {},
   "outputs": [
    {
     "data": {
      "text/html": [
       "<div>\n",
       "<style scoped>\n",
       "    .dataframe tbody tr th:only-of-type {\n",
       "        vertical-align: middle;\n",
       "    }\n",
       "\n",
       "    .dataframe tbody tr th {\n",
       "        vertical-align: top;\n",
       "    }\n",
       "\n",
       "    .dataframe thead th {\n",
       "        text-align: right;\n",
       "    }\n",
       "</style>\n",
       "<table border=\"1\" class=\"dataframe\">\n",
       "  <thead>\n",
       "    <tr style=\"text-align: right;\">\n",
       "      <th></th>\n",
       "      <th>Collaborations_nbr</th>\n",
       "    </tr>\n",
       "  </thead>\n",
       "  <tbody>\n",
       "    <tr>\n",
       "      <th>0</th>\n",
       "      <td>13159</td>\n",
       "    </tr>\n",
       "  </tbody>\n",
       "</table>\n",
       "</div>"
      ],
      "text/plain": [
       "   Collaborations_nbr\n",
       "0               13159"
      ]
     },
     "execution_count": 6,
     "metadata": {},
     "output_type": "execute_result"
    }
   ],
   "source": [
    "#**2**: How many have collaborated atleast more than 10 times with another superhero?\n",
    "\n",
    "query = \"\"\"MATCH (s1:Superhero)-[r:RELATION]->(s2:Superhero)\n",
    "WHERE r.n_collab > 10\n",
    "RETURN count(*) AS Collaborations_nbr\"\"\"\n",
    "\n",
    "data = graph.run(query).to_data_frame()\n",
    "data\n"
   ]
  },
  {
   "cell_type": "code",
   "execution_count": 19,
   "metadata": {},
   "outputs": [
    {
     "name": "stdout",
     "output_type": "stream",
     "text": [
      "\n",
      "Voici les relations entre les Superhero avec le moins de forces et les supers avec le plus de force:\n",
      "\n",
      "     WeakestSuperhero StrongestSuperhero      Relationship\n",
      "0             Namor           Galactus  {'n_collab': 39}\n",
      "1              Lyja           Galactus   {'n_collab': 9}\n",
      "2          Psylocke           Galactus   {'n_collab': 6}\n",
      "3          Guardian           Galactus   {'n_collab': 9}\n",
      "4   Mister Sinister           Galactus   {'n_collab': 3}\n",
      "5             Morph           Galactus   {'n_collab': 9}\n",
      "6         Meteorite               Hulk   {'n_collab': 3}\n",
      "7  Lady Deathstrike               Hulk   {'n_collab': 6}\n",
      "8              Lyja               Hulk   {'n_collab': 6}\n",
      "9             Namor               Hulk  {'n_collab': 39}\n"
     ]
    }
   ],
   "source": [
    "# **3**: Did the weakest of the MCU collaborated with the strongest ?\n",
    "query = \"\"\"\n",
    "\n",
    "MATCH (w:Superhero), (s:Superhero)\n",
    "WITH min(w.Strength) AS minStrength, max(s.Strength) AS maxStrength\n",
    "MATCH (weakest:Superhero {Strength: minStrength}), (strongest:Superhero {Strength: maxStrength})\n",
    "MATCH (strongest)-[r:RELATION]->(weakest)\n",
    "RETURN weakest.name AS WeakestSuperhero, strongest.name AS StrongestSuperhero, r as Relationship\n",
    "\"\"\"\n",
    "\n",
    "data = graph.run(query).to_data_frame()\n",
    "print('\\nVoici les relations entre les Superhero avec le moins de forces et les supers avec le plus de force (les 10 premiers):\\n\\n ', data[0:10])\n"
   ]
  },
  {
   "cell_type": "code",
   "execution_count": 21,
   "metadata": {},
   "outputs": [
    {
     "name": "stdout",
     "output_type": "stream",
     "text": [
      "\n",
      "La moyenne d'intelligence: \n",
      "\n",
      "    avg_intelligence\n",
      "0         54.664975\n"
     ]
    }
   ],
   "source": [
    "# **4**: Give a stats that interests you !\n",
    "query = \"\"\"\n",
    "MATCH (s:Superhero)\n",
    "RETURN AVG(s.Intelligence) AS avg_intelligence\n",
    "\"\"\"\n",
    "\n",
    "data = graph.run(query).to_data_frame()\n",
    "print(\"\\nLa moyenne d'intelligence: \\n\\n\", data)"
   ]
  },
  {
   "cell_type": "code",
   "execution_count": 26,
   "metadata": {},
   "outputs": [],
   "source": [
    "# **5**: Create a new db called \"master\". Create a graph from the M1 class with name and random age between 20 and 30, Group of 3 that collab (undirected relation).\n",
    "\n",
    "import random\n",
    "\n",
    "# Connect to the Neo4j database\n",
    "graph = py2neo.Graph(\"bolt://localhost:7687\", auth=(\"neo4j\", \"password_tuts\"), name=\"master\")\n",
    "graph.delete_all()\n",
    "\n",
    "\n",
    "students = []\n",
    "for i in range(1, 10):  \n",
    "    student = py2neo.Node(\"Student\", name=f\"Student {i}\", age=random.randint(20, 30))\n",
    "    students.append(student)\n",
    "    graph.create(student)\n",
    "\n",
    "for i in range(0, len(students), 3):\n",
    "    if i+2 < len(students):  \n",
    "        a, b, c = students[i:i+3]\n",
    "        graph.create(py2neo.Relationship(a, \"RELATION\", b))\n",
    "        graph.create(py2neo.Relationship(b, \"RELATION\", c))\n",
    "        graph.create(py2neo.Relationship(c, \"RELATION\", a))\n",
    "\n"
   ]
  },
  {
   "cell_type": "markdown",
   "metadata": {},
   "source": [
    "<img src=\"img/graph2.png\"> "
   ]
  },
  {
   "cell_type": "code",
   "execution_count": 37,
   "metadata": {},
   "outputs": [
    {
     "name": "stdout",
     "output_type": "stream",
     "text": [
      "\n",
      "Supposons que je suis \"Student 1\": \n",
      "\n",
      "         Name  Age\n",
      "0  Student 3   22\n",
      "1  Student 2   24\n"
     ]
    }
   ],
   "source": [
    "# **6**: Get the age for people YOU collaborate with.\n",
    "query = \"\"\"\n",
    "MATCH (s:Student {name: 'Student 1'})-[:RELATION]-(collaborators)\n",
    "RETURN collaborators.name AS Name, collaborators.age AS Age\n",
    "\"\"\"\n",
    "\n",
    "data = graph.run(query).to_data_frame()\n",
    "print('\\nSupposons que je suis \"Student 1\": \\n\\n',data)\n"
   ]
  },
  {
   "cell_type": "code",
   "execution_count": 41,
   "metadata": {},
   "outputs": [
    {
     "name": "stdout",
     "output_type": "stream",
     "text": [
      "\n",
      "Les étudiants qui ont plus de 25 ans: \n",
      "\n",
      "         Name  Age\n",
      "0  Student 4   28\n",
      "1  Student 7   30\n"
     ]
    }
   ],
   "source": [
    "# **7**: Get nodes with age > 25.\n",
    "query = \"\"\"\n",
    "MATCH (n)\n",
    "WHERE n.age > 25\n",
    "RETURN n.name AS Name, n.age AS Age\n",
    "\"\"\"\n",
    "\n",
    "data = graph.run(query).to_data_frame()\n",
    "print('\\nLes étudiants qui ont plus de 25 ans: \\n\\n', data)"
   ]
  },
  {
   "cell_type": "code",
   "execution_count": null,
   "metadata": {},
   "outputs": [],
   "source": [
    "# **8**: Using the downloaded data in TODO 11 of chapter II, create a collaboration network between authors for papers after 2021 (same author if same name). Insert it in neo4j in a db called \"arxiv\".\n",
    "\n",
    "# **9**: Get the density of degrees of the collaboration network\n",
    "\n",
    "# **10**: Do a for loop for i in range(500) for each i remove nodes with a degree less than i."
   ]
  },
  {
   "cell_type": "markdown",
   "metadata": {},
   "source": [
    "### Real World application 3\n",
    "\n",
    "\n",
    "1) Each paper has a list of author and affiliations. The first step is to create a node per author with a list of affiliation as attribute. If a name appears multiple times consider it as a single person. Create an edge between two authors if they are on the same paper. You can use any kind of operation to clean the data before inserting, you decide which preprocessing step is the most convenient.\n",
    "\n",
    "2) How many authors have more than 2 affiliations ?\n",
    "\n",
    "3) Create a density of node degrees. Do you observe a power scale law ? What does it mean ?\n",
    "\n",
    "4) Which country has seen the most international collaboration ?\n",
    "\n",
    "5) Who are the top 10 collaborators and what is their affiliation ?\n",
    "\n",
    "6) Sandbox exercise: think of a problematic and try to answer it."
   ]
  },
  {
   "cell_type": "markdown",
   "metadata": {},
   "source": [
    "### /!\\\\/!\\ Lien indisponible /!\\\\/!\\:\n",
    "\n",
    "https://we.tl/t-6afLCDGRsg"
   ]
  },
  {
   "cell_type": "markdown",
   "metadata": {},
   "source": [
    "### Real World application 4\n",
    "\n",
    "change the database \"neo4j\" to the database \"movie\". Go to the browser and run on the browser console :play movie-graph then copy the queries on the console and run it. Congrats you just imported a brand new sample of data. Answer the following questions with cypher queries.\n",
    "\n",
    "1) How many actors played in more than 2 movie ? Get their names and year they were born.\n",
    "\n",
    "2) In how many movies did Tom hanks play ?\n",
    "\n",
    "3) In average in how many movies do actors play in ?\n",
    "\n",
    "4) In average how many actors are there in a movie ?\n",
    "\n",
    "5) In average how many writers is needed to write a movie ?\n",
    "\n",
    "6) What is the proportion of writers that also directed the movie ?\n",
    "\n",
    "7) Do an histogram of the year of release for the movies.\n",
    "\n",
    "8) Who are the 10 actors with the most movie played in\n",
    "\n",
    "9) Delete every movie made by a director of your choosing\n",
    "\n",
    "10) Give some statistics that you find interesting.\n",
    "\n",
    "11) Sandbox exercise: think of a problematic and try to answer it."
   ]
  },
  {
   "cell_type": "code",
   "execution_count": 49,
   "metadata": {},
   "outputs": [
    {
     "name": "stdout",
     "output_type": "stream",
     "text": [
      "                  name  yearBorn\n",
      "0         Hugo Weaving      1960\n",
      "1   Laurence Fishburne      1961\n",
      "2     Carrie-Anne Moss      1967\n",
      "3         Keanu Reeves      1964\n",
      "4     Cuba Gooding Jr.      1968\n",
      "5          Kevin Bacon      1958\n",
      "6       Jack Nicholson      1937\n",
      "7           Tom Cruise      1962\n",
      "8             Meg Ryan      1961\n",
      "9           Helen Hunt      1963\n",
      "10      Robin Williams      1951\n",
      "11           Tom Hanks      1956\n",
      "12        Gene Hackman      1930\n",
      "13           Ben Miles      1967\n",
      "14         Bill Paxton      1955\n"
     ]
    }
   ],
   "source": [
    "# 1) How many actors played in more than 2 movie ? Get their names and year they were born.\n",
    "import random\n",
    "\n",
    "graph = py2neo.Graph(\"bolt://localhost:7687\", auth=(\"neo4j\", \"password_tuts\"), name=\"movie\")\n",
    "\n",
    "query = \"\"\"\n",
    "MATCH (a:Person)-[:ACTED_IN]->(m:Movie)\n",
    "WITH a, COUNT(m) AS movies\n",
    "WHERE movies > 2\n",
    "RETURN a.name AS name, a.born AS yearBorn\n",
    "\"\"\"\n",
    "data = graph.run(query).to_data_frame()\n",
    "print(data)\n",
    "\n",
    "\n"
   ]
  },
  {
   "cell_type": "code",
   "execution_count": 51,
   "metadata": {},
   "outputs": [
    {
     "name": "stdout",
     "output_type": "stream",
     "text": [
      "   count\n",
      "0     12\n"
     ]
    }
   ],
   "source": [
    "# 2) In how many movies did Tom hanks play ?\n",
    "query = \"\"\"\n",
    "MATCH (p:Person {name: 'Tom Hanks'})-[:ACTED_IN]->(m:Movie)\n",
    "RETURN COUNT(m) AS count\n",
    "\"\"\"\n",
    "data = graph.run(query).to_data_frame()\n",
    "print(data)\n"
   ]
  },
  {
   "cell_type": "code",
   "execution_count": 54,
   "metadata": {},
   "outputs": [
    {
     "name": "stdout",
     "output_type": "stream",
     "text": [
      "\n",
      "En moyenne, les acteurs jouent dans environ 1.69 films: \n",
      "\n",
      " 1.6862745098039222\n"
     ]
    }
   ],
   "source": [
    "# 3) In average in how many movies do actors play in ?\n",
    "query = \"\"\"\n",
    "MATCH (a:Person)-[:ACTED_IN]->(m:Movie)\n",
    "WITH a, COUNT(m) AS movies\n",
    "RETURN AVG(movies) AS average\n",
    "\"\"\"\n",
    "data = graph.run(query).evaluate()\n",
    "print(f\"\\nEn moyenne, les acteurs jouent dans environ {data:.2f} films: \\n\\n\", data)\n"
   ]
  },
  {
   "cell_type": "code",
   "execution_count": 56,
   "metadata": {},
   "outputs": [
    {
     "name": "stdout",
     "output_type": "stream",
     "text": [
      "\n",
      "En moyenne, il y a 4.53 acteurs par film: \n",
      "\n",
      " 4.526315789473684\n"
     ]
    }
   ],
   "source": [
    "# 4) In average how many actors are there in a movie ?\n",
    "query = \"\"\"\n",
    "MATCH (m:Movie)<-[:ACTED_IN]-(a:Person)\n",
    "WITH m, COUNT(a) AS actors\n",
    "RETURN AVG(actors) AS average\n",
    "\"\"\"\n",
    "data = graph.run(query).evaluate()\n",
    "print(f\"\\nEn moyenne, il y a {data:.2f} acteurs par film: \\n\\n\", data)"
   ]
  },
  {
   "cell_type": "code",
   "execution_count": 58,
   "metadata": {},
   "outputs": [
    {
     "name": "stdout",
     "output_type": "stream",
     "text": [
      "\n",
      "En moyenne, 1.25 écrivains sont nécessaires pour écrire un film: \n",
      "\n",
      " 1.25\n"
     ]
    }
   ],
   "source": [
    "# 5) In average how many writers is needed to write a movie ?\n",
    "query = \"\"\"\n",
    "MATCH (m:Movie)<-[:WROTE]-(w:Person)\n",
    "WITH m, COUNT(w) AS writers\n",
    "RETURN AVG(writers) AS average\n",
    "\"\"\"\n",
    "data = graph.run(query).evaluate()\n",
    "print(f\"\\nEn moyenne, {data:.2f} écrivains sont nécessaires pour écrire un film: \\n\\n\", data)\n"
   ]
  },
  {
   "cell_type": "code",
   "execution_count": 61,
   "metadata": {},
   "outputs": [
    {
     "name": "stdout",
     "output_type": "stream",
     "text": [
      "\n",
      "Proportion d'écrivains qui sont aussi directeurs: \n",
      "\n",
      " 9.0\n"
     ]
    }
   ],
   "source": [
    "# 6) What is the proportion of writers that also directed the movie ?\n",
    "query = \"\"\"\n",
    "MATCH (p:Person)-[:WROTE]->(m:Movie)\n",
    "WITH p, COUNT(m) AS WrittenMovies\n",
    "MATCH (p)-[:DIRECTED]->(m)\n",
    "WITH p, WrittenMovies, COUNT(m) AS DirectedMovies\n",
    "RETURN SUM(DirectedMovies * 1.0 / WrittenMovies) AS proportion\n",
    "\"\"\"\n",
    "data = graph.run(query).evaluate()\n",
    "print(\"\\nProportion d'écrivains qui sont aussi directeurs: \\n\\n\", data)\n"
   ]
  },
  {
   "cell_type": "code",
   "execution_count": 69,
   "metadata": {},
   "outputs": [
    {
     "name": "stderr",
     "output_type": "stream",
     "text": [
      "C:\\Users\\ndubo\\AppData\\Local\\Temp\\ipykernel_16560\\3552216461.py:15: UserWarning: set_ticklabels() should only be used with a fixed number of ticks, i.e. after set_ticks() or using a FixedLocator.\n",
      "  bar_plot.set_xticklabels(bar_plot.get_xticklabels(), rotation=90)\n"
     ]
    },
    {
     "data": {
      "image/png": "[encoded data removed]",
      "text/plain": [
       "<Figure size 1200x600 with 1 Axes>"
      ]
     },
     "metadata": {},
     "output_type": "display_data"
    }
   ],
   "source": [
    "import seaborn as sns \n",
    "import matplotlib.pyplot as plt\n",
    "\n",
    "# 7) Do an histogram of the year of release for the movies.\n",
    "query = \"\"\"\n",
    "MATCH (m:Movie)\n",
    "RETURN m.released AS year, COUNT(*) AS count\n",
    "ORDER BY year\n",
    "\"\"\"\n",
    "data = graph.run(query).to_data_frame()\n",
    "\n",
    "# Create a bar plot for the histogram data\n",
    "plt.figure(figsize=(12, 6))  \n",
    "bar_plot = sns.barplot(data=data, x='year', y='count', color='blue')\n",
    "bar_plot.set_xticklabels(bar_plot.get_xticklabels(), rotation=90)  \n",
    "\n",
    "# Set plot title and labels\n",
    "plt.title('Histogram of Movie Release Years')\n",
    "plt.xlabel('Year of Release')\n",
    "plt.ylabel('Number of Movies Released')\n",
    "\n",
    "# Show the plot\n",
    "plt.show()\n",
    "\n"
   ]
  },
  {
   "cell_type": "code",
   "execution_count": 71,
   "metadata": {},
   "outputs": [
    {
     "name": "stdout",
     "output_type": "stream",
     "text": [
      "\n",
      "Les acteurs qui ont joué dans le plus de films: \n",
      "\n",
      "                 actor  movies\n",
      "0           Tom Hanks      12\n",
      "1        Keanu Reeves       7\n",
      "2            Meg Ryan       5\n",
      "3      Jack Nicholson       5\n",
      "4        Hugo Weaving       5\n",
      "5    Cuba Gooding Jr.       4\n",
      "6         Kevin Bacon       3\n",
      "7  Laurence Fishburne       3\n",
      "8    Carrie-Anne Moss       3\n",
      "9          Tom Cruise       3\n"
     ]
    }
   ],
   "source": [
    "# 8) Who are the 10 actors with the most movie played in\n",
    "query = \"\"\"\n",
    "MATCH (a:Person)-[:ACTED_IN]->(m:Movie)\n",
    "WITH a, COUNT(m) AS movies\n",
    "ORDER BY movies DESC\n",
    "LIMIT 10\n",
    "RETURN a.name AS actor, movies\n",
    "\"\"\"\n",
    "data = graph.run(query).to_data_frame()\n",
    "print('\\nLes acteurs qui ont joué dans le plus de films: \\n\\n', data)\n",
    "\n"
   ]
  },
  {
   "cell_type": "code",
   "execution_count": 72,
   "metadata": {},
   "outputs": [
    {
     "name": "stdout",
     "output_type": "stream",
     "text": [
      "Les films dirigés par Lana Wachowski ont été supprimés.\n"
     ]
    }
   ],
   "source": [
    "# 9) Delete every movie made by a director of your choosing\n",
    "query = \"\"\"\n",
    "MATCH (m:Movie)<-[:DIRECTED]-(d:Person {name: 'Lana Wachowski'})\n",
    "DETACH DELETE m\n",
    "\"\"\"\n",
    "graph.run(query)\n",
    "print(\"Les films dirigés par Lana Wachowski ont été supprimés.\")\n",
    "\n"
   ]
  },
  {
   "cell_type": "code",
   "execution_count": null,
   "metadata": {},
   "outputs": [],
   "source": [
    "# 10) Give some statistics that you find interesting.\n",
    "\n"
   ]
  },
  {
   "cell_type": "code",
   "execution_count": null,
   "metadata": {},
   "outputs": [],
   "source": [
    "# 11) Sandbox exercise: think of a problematic and try to answer it."
   ]
  },
  {
   "cell_type": "markdown",
   "metadata": {},
   "source": [
    "## Homework 5\n",
    "\n",
    "You will work on a Twitch dataset found [here](https://www.kaggle.com/andreagarritano/twitch-social-networks). The goal is to learn more about the feat&fun on Twitch. First thing to do is create the network on Neo4j. Insert the node\n",
    "from Twitch/FR_target and then the edges from Twitch/FR_edges.csv in neo4j. Answer the following using cypher queries\n",
    "\n",
    "1) Give the IDs of the top 10 streamers that have atleast one collaboration.\n",
    "\n",
    "2) Create a density of node degrees. Do you observe a power scale law ? What does it mean ?\n",
    "\n",
    "3) How many streamers has the tag \"mature\" ?\n",
    "\n",
    "4) Is the collaboration correlated to the \"mature\" tag ?\n",
    "\n",
    "5) Do partners collaborate more than non partners ?\n",
    "\n",
    "6) Sandbox exercise: think of a problematic and try to answer it."
   ]
  },
  {
   "cell_type": "code",
   "execution_count": null,
   "metadata": {},
   "outputs": [],
   "source": []
  }
 ],
 "metadata": {
  "kernelspec": {
   "display_name": "venv",
   "language": "python",
   "name": "python3"
  },
  "language_info": {
   "codemirror_mode": {
    "name": "ipython",
    "version": 3
   },
   "file_extension": ".py",
   "mimetype": "text/x-python",
   "name": "python",
   "nbconvert_exporter": "python",
   "pygments_lexer": "ipython3",
   "version": "3.11.1"
  }
 },
 "nbformat": 4,
 "nbformat_minor": 2
}
