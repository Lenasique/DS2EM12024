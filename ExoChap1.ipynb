{
 "cells": [
  {
   "cell_type": "markdown",
   "metadata": {},
   "source": [
    "## SQLITE\n",
    "\n",
    "**1**: Read all the data from bc.csv, how many rows is there ? Columns ? \n",
    "\n",
    "**2**: Insert the bc.csv in the sqlite format.\n",
    "\n",
    "**3**: In the same db create a new table called tomatch with two variables id_ and rdm_float. \n",
    "\n",
    "**4**: In the table tomatch insert observations where the id_ starts from 50k, ends at 10000000 and is only even numbers. rdm_float is a random float for each observation.\n",
    "\n",
    "**5**: Do an Inner join between the two tables and compute the different aggregate functions on a column of your choice.\n",
    "\n",
    "**6**: How many observations have a radius_mean greater than 15 ? From them how many have a texture_mean greater than 20 ?\n",
    "\n",
    "**7**: For each category in diagnosis do the mean of a variable and round it to get only 2 numbers after the comma. Compute the difference between the mean of both groups\n",
    "\n",
    "\n",
    "**8**: Change the name of the column \"diagnosis\" to \"label\"\n",
    "\n",
    "**9**: Add a column named \"day\" of type DATE.\n",
    "\n",
    "**10**: Change the type of the column \"area_mean\" to int (hint, not possible on sqlite, create a new column)\n",
    "\n",
    "**11**: create a new table called tomatch2 exactly the same way as tomatch except you increment id_ by 10.\n",
    "\n",
    "**12**: Do an inner join of bc, tomatch and tomatch2 where the radius_mean is greater than 15, and the rdm_float is greater than 0.50 in tomatch AND tomatch2. \n"
   ]
  },
  {
   "cell_type": "code",
   "execution_count": null,
   "metadata": {},
   "outputs": [],
   "source": [
    "import sqlite3\n",
    "import pandas as pd\n",
    "import numpy as np\n",
    "\n",
    "#SQLite dataase connection\n",
    "conn = sqlite3.connect('bc_data.db')\n",
    "cursor = conn.cursor()"
   ]
  },
  {
   "cell_type": "code",
   "execution_count": null,
   "metadata": {},
   "outputs": [],
   "source": [
    "# **1**: Read all the data from bc.csv, how many rows and columns\n",
    "df = pd.read_csv('data/Chap1/bc.csv')\n",
    "print(f'Rows: {df.shape[0]}, Columns: {df.shape[1]}')"
   ]
  },
  {
   "cell_type": "code",
   "execution_count": null,
   "metadata": {},
   "outputs": [],
   "source": [
    "# **2**: Insert the bc.csv into SQLite\n",
    "df.to_sql('bc', conn, if_exists='replace', index=False)"
   ]
  },
  {
   "cell_type": "code",
   "execution_count": null,
   "metadata": {},
   "outputs": [],
   "source": [
    "# **3**: Create a new table called tomatch\n",
    "cursor.execute('''\n",
    "CREATE TABLE tomatch (\n",
    "    id_ INTEGER,\n",
    "    rdm_float REAL\n",
    ")\n",
    "''')"
   ]
  },
  {
   "cell_type": "code",
   "execution_count": null,
   "metadata": {},
   "outputs": [],
   "source": [
    "# **4**: Insert observations in tomatch\n",
    "cursor.executemany('''\n",
    "INSERT INTO tomatch (id_, rdm_float) VALUES (?, ?)\n",
    "''', [(i, np.random.rand()) for i in range(50000, 10000001, 2)])"
   ]
  },
  {
   "cell_type": "code",
   "execution_count": null,
   "metadata": {},
   "outputs": [],
   "source": [
    "# **5**: Inner join between the two tables and aggregate functions\n",
    "result = pd.read_sql_query('''\n",
    "SELECT AVG(bc.radius_mean) AS avg_radius\n",
    "FROM bc\n",
    "JOIN tomatch ON bc.id = tomatch.id_\n",
    "''', conn)\n",
    "print(result)"
   ]
  },
  {
   "cell_type": "code",
   "execution_count": null,
   "metadata": {},
   "outputs": [],
   "source": [
    "# **6**: Observations with radius_mean > 15 and texture_mean > 20\n",
    "count_radius = pd.read_sql_query('''\n",
    "SELECT COUNT(*) FROM bc WHERE radius_mean > 15\n",
    "''', conn)\n",
    "count_texture = pd.read_sql_query('''\n",
    "SELECT COUNT(*) FROM bc WHERE radius_mean > 15 AND texture_mean > 20\n",
    "''', conn)\n",
    "print(count_radius, count_texture)"
   ]
  },
  {
   "cell_type": "code",
   "execution_count": null,
   "metadata": {},
   "outputs": [],
   "source": [
    "# **7**: Mean of a variable for each category in diagnosis\n",
    "mean_diff = pd.read_sql_query('''\n",
    "SELECT diagnosis, ROUND(AVG(radius_mean), 2) AS rounded_mean\n",
    "FROM bc\n",
    "GROUP BY diagnosis\n",
    "''', conn)\n",
    "print(mean_diff)"
   ]
  },
  {
   "cell_type": "code",
   "execution_count": null,
   "metadata": {},
   "outputs": [],
   "source": [
    "# **8**: Change the name of the column \"diagnosis\" to \"label\"\n",
    "cursor.execute('''\n",
    "ALTER TABLE bc RENAME COLUMN diagnosis TO label\n",
    "''')"
   ]
  },
  {
   "cell_type": "code",
   "execution_count": null,
   "metadata": {},
   "outputs": [],
   "source": [
    "# **9**: Add a column \"day\" of type DATE\n",
    "cursor.execute('''\n",
    "ALTER TABLE bc ADD COLUMN day DATE\n",
    "''')"
   ]
  },
  {
   "cell_type": "code",
   "execution_count": null,
   "metadata": {},
   "outputs": [],
   "source": [
    "# **10**: Change the type of \"area_mean\" to int by creating a new column\n",
    "cursor.execute('''\n",
    "ALTER TABLE bc ADD COLUMN area_mean_int INTEGER\n",
    "''')\n",
    "cursor.execute('''\n",
    "UPDATE bc SET area_mean_int = CAST(area_mean AS INTEGER)\n",
    "''')"
   ]
  },
  {
   "cell_type": "code",
   "execution_count": null,
   "metadata": {},
   "outputs": [],
   "source": [
    "# **11**: Create new table tomatch2 similar to tomatch but increment id_ by 10\n",
    "cursor.execute('''\n",
    "CREATE TABLE tomatch2 AS SELECT id_ + 10 AS id_, rdm_float FROM tomatch\n",
    "''')"
   ]
  },
  {
   "cell_type": "code",
   "execution_count": null,
   "metadata": {},
   "outputs": [],
   "source": [
    "# **12**: Inner join of bc, tomatch, and tomatch2 with conditions\n",
    "final_result = pd.read_sql_query('''\n",
    "SELECT *\n",
    "FROM bc\n",
    "JOIN tomatch ON bc.id = tomatch.id_ AND tomatch.rdm_float > 0.50\n",
    "JOIN tomatch2 ON bc.id = tomatch2.id_ AND tomatch2.rdm_float > 0.50\n",
    "WHERE bc.radius_mean > 15\n",
    "''', conn)\n",
    "print(final_result)"
   ]
  },
  {
   "cell_type": "code",
   "execution_count": null,
   "metadata": {},
   "outputs": [],
   "source": [
    "# Commit changes and close connection\n",
    "conn.commit()\n",
    "conn.close()"
   ]
  },
  {
   "cell_type": "markdown",
   "metadata": {},
   "source": [
    "## MySQL\n",
    "\n",
    "**1**: How many orders were placed in total?\n",
    "\n",
    "**2**: What is the total sales amount?\n",
    "\n",
    "**3**: What is the average profit per order?\n",
    "\n",
    "**4**: Which customer has placed the most orders?\n",
    "\n",
    "**5**: What is the total profit for each product category?\n",
    "\n",
    "**6**: What is the average discount percentage?\n",
    "\n",
    "**7**: Which region has the highest total sales?\n",
    "\n",
    "**8**: How many orders were shipped using each shipping mode?\n",
    "\n",
    "**9**: What is the total quantity ordered for each product sub-category?\n",
    "\n",
    "**10**: Which product has the highest profit margin?\n",
    "\n",
    "**11**: What is the total sales amount for each year?\n",
    "\n",
    "**12**: Which customer segment has the highest average sales?\n"
   ]
  },
  {
   "cell_type": "code",
   "execution_count": null,
   "metadata": {},
   "outputs": [],
   "source": [
    "import mysql.connector\n",
    "import pandas as pd \n",
    "\n",
    "# Connect to the MySQL database\n",
    "db = mysql.connector.connect(\n",
    "    host=\"127.0.0.1\",\n",
    "    user=\"root\",\n",
    "    passwd=\"root\",\n",
    ")\n",
    "cursor = db.cursor()\n",
    "cursor.execute(\"CREATE DATABASE bc_data2\")\n",
    "\n",
    "df = pd.read_csv('data/Chap1/bc.csv')"
   ]
  },
  {
   "cell_type": "code",
   "execution_count": null,
   "metadata": {},
   "outputs": [],
   "source": [
    "# **1**: How many orders were placed in total?\n",
    "cursor.execute(\"SELECT COUNT(*) FROM orders\")\n",
    "total_orders = cursor.fetchone()\n",
    "print(\"Total orders:\", total_orders[0])"
   ]
  },
  {
   "cell_type": "code",
   "execution_count": null,
   "metadata": {},
   "outputs": [],
   "source": [
    "# **2**: What is the total sales amount?\n",
    "cursor.execute(\"SELECT SUM(total_sales) FROM orders\")\n",
    "total_sales = cursor.fetchone()\n",
    "print(\"Total sales amount:\", total_sales[0])"
   ]
  },
  {
   "cell_type": "code",
   "execution_count": null,
   "metadata": {},
   "outputs": [],
   "source": [
    "# **3**: What is the average profit per order?\n",
    "cursor.execute(\"SELECT AVG(profit) FROM orders\")\n",
    "average_profit = cursor.fetchone()\n",
    "print(\"Average profit per order:\", average_profit[0])"
   ]
  },
  {
   "cell_type": "code",
   "execution_count": null,
   "metadata": {},
   "outputs": [],
   "source": [
    "# **4**: Which customer has placed the most orders?\n",
    "cursor.execute(\"SELECT customer_id, COUNT(*) AS order_count FROM orders GROUP BY customer_id ORDER BY order_count DESC LIMIT 1\")\n",
    "top_customer = cursor.fetchone()\n",
    "print(\"Customer with most orders:\", top_customer)"
   ]
  },
  {
   "cell_type": "code",
   "execution_count": null,
   "metadata": {},
   "outputs": [],
   "source": [
    "# **5**: What is the total profit for each product category?\n",
    "cursor.execute(\"SELECT category, SUM(profit) FROM products GROUP BY category\")\n",
    "category_profits = cursor.fetchall()\n",
    "for category, profit in category_profits:\n",
    "    print(f\"Category: {category}, Total Profit: {profit}\")"
   ]
  },
  {
   "cell_type": "code",
   "execution_count": null,
   "metadata": {},
   "outputs": [],
   "source": [
    "# **6**: What is the average discount percentage?\n",
    "cursor.execute(\"SELECT AVG(discount_percentage) FROM orders\")\n",
    "avg_discount = cursor.fetchone()\n",
    "print(\"Average discount percentage:\", avg_discount[0])"
   ]
  },
  {
   "cell_type": "code",
   "execution_count": null,
   "metadata": {},
   "outputs": [],
   "source": [
    "# **7**: Which region has the highest total sales?\n",
    "cursor.execute(\"SELECT region, SUM(total_sales) FROM orders GROUP BY region ORDER BY SUM(total_sales) DESC LIMIT 1\")\n",
    "highest_sales_region = cursor.fetchone()\n",
    "print(\"Region with highest total sales:\", highest_sales_region)"
   ]
  },
  {
   "cell_type": "code",
   "execution_count": null,
   "metadata": {},
   "outputs": [],
   "source": [
    "# **8**: How many orders were shipped using each shipping mode?\n",
    "cursor.execute(\"SELECT shipping_mode, COUNT(*) FROM orders GROUP BY shipping_mode\")\n",
    "shipping_counts = cursor.fetchall()\n",
    "for mode, count in shipping_counts:\n",
    "    print(f\"Shipping Mode: {mode}, Orders: {count}\")"
   ]
  },
  {
   "cell_type": "code",
   "execution_count": null,
   "metadata": {},
   "outputs": [],
   "source": [
    "# **9**: What is the total quantity ordered for each product sub-category?\n",
    "cursor.execute(\"SELECT sub_category, SUM(quantity_ordered) FROM products GROUP BY sub_category\")\n",
    "sub_category_quantities = cursor.fetchall()\n",
    "for sub_category, quantity in sub_category_quantities:\n",
    "    print(f\"Sub-category: {sub_category}, Total Quantity: {quantity}\")"
   ]
  },
  {
   "cell_type": "code",
   "execution_count": null,
   "metadata": {},
   "outputs": [],
   "source": [
    "# **10**: Which product has the highest profit margin?\n",
    "cursor.execute(\"SELECT product_id, MAX(profit_margin) FROM products\")\n",
    "highest_margin_product = cursor.fetchone()\n",
    "print(\"Product with highest profit margin:\", highest_margin_product)"
   ]
  },
  {
   "cell_type": "code",
   "execution_count": null,
   "metadata": {},
   "outputs": [],
   "source": [
    "# **11**: What is the total sales amount for each year?\n",
    "cursor.execute(\"SELECT YEAR(order_date), SUM(total_sales) FROM orders GROUP BY YEAR(order_date)\")\n",
    "yearly_sales = cursor.fetchall()\n",
    "for year, sales in yearly_sales:\n",
    "    print(f\"Year: {year}, Total Sales: {sales}\")"
   ]
  },
  {
   "cell_type": "code",
   "execution_count": null,
   "metadata": {},
   "outputs": [],
   "source": [
    "# **12**: Which customer segment has the highest average sales?\n",
    "cursor.execute(\"SELECT customer_segment, AVG(total_sales) FROM orders GROUP BY customer_segment ORDER BY AVG(total_sales) DESC LIMIT 1\")\n",
    "highest_avg_sales_segment = cursor.fetchone()\n",
    "print(\"Customer segment with highest average sales:\", highest_avg_sales_segment)\n",
    "\n",
    "# Close the connection\n",
    "cursor.close()\n",
    "db.close()"
   ]
  },
  {
   "cell_type": "markdown",
   "metadata": {},
   "source": [
    "## PostgreSQL\n",
    "\n",
    "**1**: What is the average age of the customers?\n",
    "\n",
    "**2**: How many customers have defaulted on loans?\n",
    "\n",
    "**3**: What is the maximum balance in the account?\n",
    "\n",
    "**4**: How many customers have a housing loan?\n",
    "\n",
    "**5**: What is the education level of the youngest customer?\n",
    "\n",
    "**6**: What is the marital status of the oldest customer?\n",
    "\n",
    "**7**: What is the distribution of the months in which customers were last contacted?\n",
    "\n",
    "**8**: What is the average duration of contact for customers who have a personal loan?\n",
    "\n",
    "**9**: How many customers were previously contacted, and what was the average duration of their last contact?\n",
    "\n",
    "**10**: What is the distribution of job types among customers?\n",
    "\n",
    "**11**: How many customers have been contacted more than once in the current campaign?\n",
    "\n",
    "**12**: What is the success rate of previous marketing campaigns (poutcome) among customers"
   ]
  },
  {
   "cell_type": "markdown",
   "metadata": {},
   "source": []
  }
 ],
 "metadata": {
  "kernelspec": {
   "display_name": "venv",
   "language": "python",
   "name": "python3"
  },
  "language_info": {
   "name": "python",
   "version": "3.11.1"
  }
 },
 "nbformat": 4,
 "nbformat_minor": 2
}
